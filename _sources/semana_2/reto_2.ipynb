{
 "cells": [
  {
   "cell_type": "markdown",
   "id": "28f0577d-a92f-4edb-a7db-72d1e5860f4b",
   "metadata": {
    "tags": []
   },
   "source": [
    "# Cálculo del número Pi por un método MonteCarlo\n",
    "\n",
    "Si lanzamos un par de números aleatorios, $x$ y $y$, cuya densidad de probabilidad es uniforme en el segmento del plano XY definido por $[0,1)x[0,1)$. ¿Cúal será la probabilidad de que este punto $(x,y)$ se encuentre a una distancia menor o igual que $1$ del punto $(0,0)$? ¿Qué número irracional encontraremos como el cuadruple de dicha probabilidad?\n",
    "\n",
    "## Tarea\n",
    "\n",
    "Dada una secuencia de $N$ pares de números aleatorios ($x$,$y$) donde $0<=x<1$ y $0<=y<1$, calcula la probabilidad que tuvo cualquiera de sus puntos ($x$,$y$) de encontrarse a una distancia menor o igual que $1$. Esa probabilidad será el número de puntos $q$ que cumplen esa condición dividido $N$:\n",
    "\n",
    "\\begin{equation}\n",
    "P= \\frac{q}{N}\n",
    "\\end{equation}\n",
    "\n",
    "Veamos como generar con Numpy por ejemplo 100 puntos ($x$,$y$) en el espacio bidimensional definido por $[0,1)x[0,1)$:"
   ]
  },
  {
   "cell_type": "code",
   "execution_count": 1,
   "id": "1b963ce9-b7cf-4952-9b3b-07181507a4a3",
   "metadata": {},
   "outputs": [],
   "source": [
    "import numpy as np\n",
    "\n",
    "puntos = np.random.rand(100,2)"
   ]
  },
  {
   "cell_type": "markdown",
   "id": "c0e3a3dc-5b57-45c6-b331-df2c1aefc200",
   "metadata": {},
   "source": [
    "¿Podrías representar gráficamente con ayuda de la librería MatPlotLib estos puntos en el espacio?\n",
    "¿Sabrías representar en color rojo los puntos que se encuentran a una distancia menor que 1 del punto (0,0) y en azul el resto?"
   ]
  },
  {
   "cell_type": "code",
   "execution_count": 2,
   "id": "10fb853a-3d1c-4495-a973-2d0a9a74fbec",
   "metadata": {},
   "outputs": [],
   "source": [
    "### ES TU TURNO\n",
    "### -----------------------------------\n",
    "### Resuelve aquí la propuesta anterior\n",
    "### en una o varias celdas\n"
   ]
  },
  {
   "cell_type": "markdown",
   "id": "f168041e-b9d5-4d9a-b198-cd1fb67afa4d",
   "metadata": {},
   "source": [
    "Habrás visto que los puntos rojos se encuentran en una zona de área igual a un cuarto de un círculo de radio 1.\n",
    "Podrás entonces calcular la probabilidad teórica de que un punto cumpla la condición de estar a una distancia menor o igual que 1 del punto (0,0) como el área del cuarto de círculo de radio 1 dividido por el área del cuadrado de lado 1:\n",
    "\n",
    "\\begin{equation}\n",
    "P= \\frac{\\pi}{4}\n",
    "\\end{equation}\n",
    "\n",
    "De esta manera podemos calcular $\\pi$ de la probabilidad de que un punto aleatorio se encuentre a una distancia menor o igual que 1 de (0,0):\n",
    "\n",
    "\\begin{equation}\n",
    "\\pi= 4\\cdot \\frac{q}{N}\n",
    "\\end{equation}"
   ]
  },
  {
   "cell_type": "markdown",
   "id": "10cfd5a3-2b23-4b0e-b914-cb91f7ac7f41",
   "metadata": {
    "tags": []
   },
   "source": [
    "¿Qué valor de $\\pi$ obtienes con 100 números aleatorios?"
   ]
  },
  {
   "cell_type": "code",
   "execution_count": 3,
   "id": "6152bae3-ad7c-45f1-9a26-47a031fa5824",
   "metadata": {},
   "outputs": [],
   "source": [
    "### ES TU TURNO\n",
    "### -----------------------------------\n",
    "### Resuelve aquí la propuesta anterior\n",
    "### en una o varias celdas\n"
   ]
  },
  {
   "cell_type": "markdown",
   "id": "445601f5-b0e0-4853-ab39-f1ffdb4e4d55",
   "metadata": {},
   "source": [
    "Por último, representa gráficamente el valor que obtienes de $\\pi$ frente a $N$ cuando $N$ toma valores entre 1 y un número suficientemente largo como para observar la convergencia del valor calculado de $4\\cdot \\frac{q}{N}$ al número irracional que conocemos como $\\pi$:"
   ]
  },
  {
   "cell_type": "code",
   "execution_count": 4,
   "id": "b6110101-8d7f-4c0a-b5d3-f61558492583",
   "metadata": {},
   "outputs": [],
   "source": [
    "### ES TU TURNO\n",
    "### -----------------------------------\n",
    "### Resuelve aquí la propuesta anterior\n",
    "### en una o varias celdas\n"
   ]
  }
 ],
 "metadata": {
  "kernelspec": {
   "display_name": "Python 3 (ipykernel)",
   "language": "python",
   "name": "python3"
  },
  "language_info": {
   "codemirror_mode": {
    "name": "ipython",
    "version": 3
   },
   "file_extension": ".py",
   "mimetype": "text/x-python",
   "name": "python",
   "nbconvert_exporter": "python",
   "pygments_lexer": "ipython3",
   "version": "3.10.11"
  }
 },
 "nbformat": 4,
 "nbformat_minor": 5
}
