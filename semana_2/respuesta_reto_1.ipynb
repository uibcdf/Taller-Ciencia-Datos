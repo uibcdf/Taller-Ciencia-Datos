{
 "cells": [
  {
   "cell_type": "markdown",
   "id": "ca82f0c8-438f-4df9-9c98-d791e706159d",
   "metadata": {},
   "source": [
    "# Algoritmo para ordenar enteros"
   ]
  },
  {
   "cell_type": "markdown",
   "id": "2d567887-ec87-4367-a688-1dc734cea31e",
   "metadata": {},
   "source": [
    "Una de las tareas más frecuentes cuando trabajas con datos es \"ordenar\" una serie o varias de datos. Así que como primer reto vas a intentar programar tu propia función para ordenar en este caso una serie de números enteros. Seguramente nunca más intentarás diseñar tu propio algoritmo para ordenar datos, encontrarás múltiples funciones en las librerías de Python que uses capaces de resolver esta tarea. Pero intentarlo tu desde cero te hará comprender el valor y el esfuerzo que hay detrás de herramientas tan comunes usadas de manera tan \"alegre\"."
   ]
  },
  {
   "cell_type": "markdown",
   "id": "0b93c42f-efcb-4970-bc61-0edcfff93a30",
   "metadata": {},
   "source": [
    "## Tarea\n",
    "\n",
    "Haz una función de Python llamada `sort` con un único argumento de entrada llamado `numbers`. La función deberá regresar la lista de números enteros que recibió como entrada (`numbers`) en orden de menor a mayor. Debes de tener en cuenta las siguientes condiciones:\n",
    "- la lista contendrá $10^7$ números enteros positivos en el rango $[0, 10^8)$.\n",
    "- no tienes límite de recursos (memoria, número de cpus, etc.) a usar para conseguir que tu algoritmo sea eficiente.\n",
    "- el algoritmo lo debes implementar haciendo uso de la sintaxis básica de Python -**NO** vale hacer uso de funciones ya programadas para ordenar que puedes encontrar en Numpy, Pandas, Scipy, etc-.\n",
    "\n",
    "Esta es la lista de números que debes ordenar:"
   ]
  },
  {
   "cell_type": "code",
   "execution_count": 1,
   "id": "c9d212c0-456c-4770-9602-7633e5dea13b",
   "metadata": {},
   "outputs": [],
   "source": [
    "import numpy as np\n",
    "\n",
    "rng = np.random.default_rng(333)\n",
    "input_random_numbers = rng.integers(low=0, high=10**8, size=10**7)"
   ]
  },
  {
   "cell_type": "code",
   "execution_count": 2,
   "id": "6ffc29eb-ec96-4254-9bd5-87bcc88201fd",
   "metadata": {},
   "outputs": [
    {
     "name": "stdout",
     "output_type": "stream",
     "text": [
      "[30054056 91900182 41637891 ...  5150345 25101977 61734715]\n"
     ]
    }
   ],
   "source": [
    "print(input_random_numbers)"
   ]
  },
  {
   "cell_type": "markdown",
   "id": "397c94fd-c45b-4e08-bc66-f44b98f6519c",
   "metadata": {},
   "source": [
    "Ahora es tu turno escribir tu función para ordenar esa lista:"
   ]
  },
  {
   "cell_type": "code",
   "execution_count": 3,
   "id": "298994d7-87b4-4cdd-bb64-5439d7125653",
   "metadata": {},
   "outputs": [],
   "source": [
    "### Propuesta de los tutores del taller ###\n",
    "\n",
    "def sort(numbers):\n",
    "\n",
    "    sorted_numbers = []\n",
    "    \n",
    "    frequency = np.zeros((10**8), dtype=np.int64)\n",
    "\n",
    "    for ii in numbers:\n",
    "        frequency[ii]+=1\n",
    "\n",
    "    ii=0\n",
    "    for ff in frequency:\n",
    "        if ff>0:\n",
    "            for jj in range(ff):\n",
    "                sorted_numbers.append(ii)\n",
    "        ii+=1\n",
    "\n",
    "    return sorted_numbers"
   ]
  },
  {
   "cell_type": "markdown",
   "id": "755fcaee-6908-4728-8b3b-a2d23696b08b",
   "metadata": {},
   "source": [
    "¿Ya tienes una propuesta que funciona? Genial! ¿Puedes calcular cuanto espacio en memoria ocupa el numpy.array `input_random_numbers`? O dicho de otra manera... ¿Cuanta memoria consumen $10^7$ enteros?"
   ]
  },
  {
   "cell_type": "code",
   "execution_count": 4,
   "id": "dcdb7b74-e87d-418f-b672-87c2ff444236",
   "metadata": {},
   "outputs": [
    {
     "name": "stdout",
     "output_type": "stream",
     "text": [
      "76.29 megabytes\n"
     ]
    }
   ],
   "source": [
    "### Propuesta de los tutores del taller ###\n",
    "\n",
    "print(f\"{round(input_random_numbers.nbytes/1024/1024, 2)} megabytes\")"
   ]
  },
  {
   "cell_type": "markdown",
   "id": "a24b4bb4-affe-42b9-8ce6-f7b5b4e5edd4",
   "metadata": {},
   "source": [
    "¿Y puedes calcular cuanto tiempo le cuesta a tu función ordenar los $10^7$ enteros de `input_random_numbers`?"
   ]
  },
  {
   "cell_type": "code",
   "execution_count": 5,
   "id": "7d491f6c-4509-4c9d-94c6-86cd515a6d11",
   "metadata": {},
   "outputs": [
    {
     "name": "stdout",
     "output_type": "stream",
     "text": [
      "CPU times: user 19.6 s, sys: 552 ms, total: 20.2 s\n",
      "Wall time: 20.2 s\n"
     ]
    }
   ],
   "source": [
    "%%time\n",
    "### Propuesta de los tutores del taller ###\n",
    "sorted_numbers = sort(input_random_numbers)"
   ]
  },
  {
   "cell_type": "markdown",
   "id": "9ed7c91a-5f4d-45db-9864-7937012c7259",
   "metadata": {},
   "source": [
    "Ahora si, prueba por ejemplo la función [`sort` de la librería Numpy](https://numpy.org/doc/stable/reference/generated/numpy.sort.html) y calcula cuanto tiempo menos le cuesta a ella que a tu función:"
   ]
  },
  {
   "cell_type": "code",
   "execution_count": 6,
   "id": "9e1be3ad-9c47-41a8-a7cb-5af17e7f1438",
   "metadata": {},
   "outputs": [
    {
     "name": "stdout",
     "output_type": "stream",
     "text": [
      "CPU times: user 894 ms, sys: 36.1 ms, total: 930 ms\n",
      "Wall time: 929 ms\n"
     ]
    }
   ],
   "source": [
    "%%time\n",
    "sorted_numbers = np.sort(input_random_numbers)"
   ]
  },
  {
   "cell_type": "markdown",
   "id": "a4af2f82-e7a6-413f-a7c2-fac02f28b77f",
   "metadata": {},
   "source": [
    "¿Por qué crees que es más rápida?"
   ]
  },
  {
   "cell_type": "markdown",
   "id": "a93a65d7-072c-430f-b09a-1034b25843c7",
   "metadata": {},
   "source": [
    "> La función sort de Numpy es un algoritmo más eficiente en el consumo de recursos. Pero el motivo por el cual es más rápido es principalmente que la función no está escrita en Python sino en un lenguaje que permite tener una versión compilada del algoritmo y hacer uso de ella (probablemente C o Fortran).\n",
    ">\n",
    "> Veamos a continuación cómo podemos acercarnos a esos tiempos sin necesidad de cambiar de lenguaje ni de algoritmo."
   ]
  },
  {
   "cell_type": "code",
   "execution_count": 7,
   "id": "446fb6ab-51b5-4686-ad34-f248cca871ec",
   "metadata": {},
   "outputs": [],
   "source": [
    "import numba as nb"
   ]
  },
  {
   "cell_type": "code",
   "execution_count": 20,
   "id": "c722b3e6-cfa3-41b5-a9f3-98733e0c9a8b",
   "metadata": {},
   "outputs": [],
   "source": [
    "@nb.njit(nb.int64[:](nb.int64[:]))\n",
    "def sort(numbers):\n",
    "\n",
    "    sorted_numbers = []\n",
    "    \n",
    "    frequency = np.zeros((10**8), dtype=np.int64)\n",
    "\n",
    "    for ii in numbers:\n",
    "        frequency[ii]+=1\n",
    "\n",
    "    ii=0\n",
    "    for ff in frequency:\n",
    "        if ff>0:\n",
    "            for jj in range(ff):\n",
    "                sorted_numbers.append(ii)\n",
    "        ii+=1\n",
    "\n",
    "    return np.array(sorted_numbers, dtype=np.int64)"
   ]
  },
  {
   "cell_type": "code",
   "execution_count": 21,
   "id": "1356945e-c68b-49a7-9392-653e3279e5c0",
   "metadata": {},
   "outputs": [
    {
     "name": "stdout",
     "output_type": "stream",
     "text": [
      "CPU times: user 546 ms, sys: 404 ms, total: 950 ms\n",
      "Wall time: 937 ms\n"
     ]
    }
   ],
   "source": [
    "%%time\n",
    "### Propuesta de los tutores del taller ###\n",
    "sorted_numbers = sort(input_random_numbers)"
   ]
  },
  {
   "cell_type": "markdown",
   "id": "ca2d34e4-938d-4256-8968-a487dbbace1b",
   "metadata": {},
   "source": [
    ":::{Note}\n",
    "Échale un ojo a herramientas como [Numba](https://numba.pydata.org/) o [Cython](https://cython.org/) si quieres acelerar tu código programado en Python.\n",
    "Si tienes nociones de programación en C, puede ser buena idea que veas [las herramientas disponibles para invocar código compilado en C desde Python](https://realpython.com/python-bindings-overview/).\n",
    ":::"
   ]
  }
 ],
 "metadata": {
  "kernelspec": {
   "display_name": "Python 3 (ipykernel)",
   "language": "python",
   "name": "python3"
  },
  "language_info": {
   "codemirror_mode": {
    "name": "ipython",
    "version": 3
   },
   "file_extension": ".py",
   "mimetype": "text/x-python",
   "name": "python",
   "nbconvert_exporter": "python",
   "pygments_lexer": "ipython3",
   "version": "3.10.11"
  }
 },
 "nbformat": 4,
 "nbformat_minor": 5
}
