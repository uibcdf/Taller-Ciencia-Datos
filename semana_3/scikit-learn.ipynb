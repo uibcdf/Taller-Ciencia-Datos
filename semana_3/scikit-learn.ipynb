{
 "cells": [
  {
   "cell_type": "markdown",
   "id": "6e4c0029-d806-4f02-86f1-9f4691eeefbf",
   "metadata": {},
   "source": [
    "<br>\n",
    "<center>\n",
    "<img src=\"https://raw.githubusercontent.com/scikit-learn/scikit-learn/main/doc/logos/scikit-learn-logo-without-subtitle.svg\" width=\"30%\">\n",
    "</center>\n",
    "<br>\n",
    "\n",
    "# scikit-learn\n",
    "\n",
    "## ¿Qué es scikit-learn?\n",
    "\n",
    "Scikit-learn es una herramienta básica y esencial para el científico de datos en Python. Como veremos aquí y en futuras sesiones, scikit-learn proporciona una impresionante batería de herramientas para:\n",
    "\n",
    "- La clasificación de datos\n",
    "- La clusterización de datos\n",
    "- Reducción de dimensionalidad\n",
    "- Comparación y validación de modelos\n",
    "- Aprendizaje máquina supervisado y no supervisado\n",
    "\n",
    "Sea cual sea el propósito de tu trabajo como científico de datos o como científico trabajando en el análisis de datos, scikit-learn es una herramienta que vas a querer usar con frecuencia.\n",
    "\n",
    "## ¿Cómo se instala?\n",
    "\n",
    "Para ver instrucciones generales de instalación puedes visitar la página oficial. Allí encontrarás indicaciones específicas para tu sistema operativo y/o tu gestor de entornos y paquetes. Aquí supondremos que estás trabajando en tu entorno de conda, así que el comando que debes teclear en la terminal es:\n",
    "\n",
    "```bash\n",
    "conda install -c conda-forge scikit-learn\n",
    "```\n",
    "\n",
    "## ¿Cómo se usa?\n",
    "\n",
    "### Importando Scikit-learn\n",
    "\n",
    "Scikit-learn es una herramienta que seguramente importarás módulo a módulo según tus necesidades. Pero si quieres importarla de una vez, el convenio es llamarla como 'sk':"
   ]
  },
  {
   "cell_type": "code",
   "execution_count": 1,
   "id": "a3d6aaae-9aad-4e17-b46c-e734e06dd6b1",
   "metadata": {},
   "outputs": [],
   "source": [
    "import sklearn as sk"
   ]
  },
  {
   "cell_type": "markdown",
   "id": "e0a9758a-17ed-4648-985f-0139a368ab7b",
   "metadata": {},
   "source": [
    "### Algunos ejemplos de uso\n",
    "\n",
    "Veremos esta librería en acción en otras unidades o a colación de otros temas específicos como por ejemplo los algoritmos de clustering y los algoritmos de reducción de dimensionalidad. Empezaremos esta semana con una revisión a los algoritmos de clustering que propone Scikit-learn."
   ]
  }
 ],
 "metadata": {
  "kernelspec": {
   "display_name": "Python 3 (ipykernel)",
   "language": "python",
   "name": "python3"
  },
  "language_info": {
   "codemirror_mode": {
    "name": "ipython",
    "version": 3
   },
   "file_extension": ".py",
   "mimetype": "text/x-python",
   "name": "python",
   "nbconvert_exporter": "python",
   "pygments_lexer": "ipython3",
   "version": "3.10.11"
  }
 },
 "nbformat": 4,
 "nbformat_minor": 5
}
