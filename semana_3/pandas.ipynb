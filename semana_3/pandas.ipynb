{
 "cells": [
  {
   "cell_type": "markdown",
   "id": "6e4c0029-d806-4f02-86f1-9f4691eeefbf",
   "metadata": {},
   "source": [
    "<br>\n",
    "<center>\n",
    "<img src=\"https://upload.wikimedia.org/wikipedia/commons/e/ed/Pandas_logo.svg\" width=\"50%\">\n",
    "</center>\n",
    "<br>\n",
    "\n",
    "# Pandas\n",
    "\n",
    "## ¿Qué es Pandas?\n",
    "\n",
    "Seguramente conoces la aplicación de Microsoft llamada Excel para trabajar con hojas de cálculo. Seguramente lo has usado alguna vez.\n",
    "Pues si tenemos que contarte de una manera directa y sencilla qué es Pandas, Pandas es el \"Excel\" de Python. Bueno, cuando lo conozcas pensarás que la comparación no es del todo apropiada... pero para tener una primera idea, la imagen es muy útil.\n",
    "\n",
    "Pandas es una muy potente librería para el análisis y la manipulación de datos. Estos datos se trabajan en dos tipos de estructuras: el marco de datos (*DataFrame*) y la serie de datos. Podrías pensar que la primera estructura es lo que conocías como \"hoja de cálculo\" y la serie como su propio nombre indica es una columna de esa \"hoja de cálculo\".\n",
    "\n",
    "Pandas es una de las herramientas más populares para el trabajo en ciencia de datos. Encontrarás muchas herramientas para el análisis de tus datos, y como veremos con la librería Seaborn, el \"marco de datos\" de Pandas se ha convertido en otro standard de almacenamiento de datos usado al igual que los arreglos de Numpy en muchas otras librerías.\n",
    "\n",
    "Pero mejor que describir qué es Pandas, es que veamos un poquito cómo funciona y qué es un marco de datos (*DataFrame*).\n",
    "\n",
    "## ¿Cómo se instala?\n",
    "\n",
    "Para ver instrucciones generales de instalación puedes visitar la página oficial. Allí encontrarás indicaciones específicas para tu sistema operativo y/o tu gestor de entornos y paquetes. Aquí supondremos que estás trabajando en tu entorno de conda, así que el comando que debes teclear en la terminal es:\n",
    "\n",
    "```bash\n",
    "conda install -c conda-forge pandas\n",
    "```\n",
    "\n",
    "## ¿Cómo se usa?\n",
    "\n",
    "### Importando Pandas"
   ]
  },
  {
   "cell_type": "code",
   "execution_count": 1,
   "id": "a3d6aaae-9aad-4e17-b46c-e734e06dd6b1",
   "metadata": {},
   "outputs": [],
   "source": [
    "import pandas as pd"
   ]
  },
  {
   "cell_type": "markdown",
   "id": "8736a8c3-7fc3-4c00-b06e-c68cf4d63635",
   "metadata": {},
   "source": [
    "### El Pandas DataFrame"
   ]
  },
  {
   "cell_type": "markdown",
   "id": "beb3d809-7cab-42f3-b810-adb9dd589ca3",
   "metadata": {},
   "source": [
    "Veamos con un ejemplo lo que es un DataFrame de Pandas.\n",
    "\n",
    "Supongamos que tenemos un conjunto de datos de 5 especies distintas \"A\", \"B\", \"C\", \"D\" y \"E\". Estos datos son el valor numérico de 4 atributos: \"Atributo 1\", \"Atributo 2\", \"Atributo 3\" y \"Atributo 4\". Para generar los datos vamos a hacer uso de la misma estrategia que viste en uno de los retos de la semana pasada:"
   ]
  },
  {
   "cell_type": "code",
   "execution_count": 7,
   "id": "95a80fbb-cbf5-4ca8-88a6-e3e48c448701",
   "metadata": {},
   "outputs": [],
   "source": [
    "from sklearn import datasets\n",
    "\n",
    "dataset, membership = datasets.make_blobs(n_samples=500, n_features=4, centers=5, cluster_std=1.0)\n",
    "\n",
    "cluster_a_especie = {0:'A', 1:'B', 2:'C', 3:'D', 4:'E'}\n",
    "especies = [cluster_a_especie[ii] for ii in membership]"
   ]
  },
  {
   "cell_type": "markdown",
   "id": "f6494fde-01b5-46a1-8509-0997219be396",
   "metadata": {},
   "source": [
    "Tenemos los datos numéricos de los atributos en un arreglo de Numpy de tamaño (500,4) y la especie a la que pertenece cada individuo en una lista de longitud 500:"
   ]
  },
  {
   "cell_type": "code",
   "execution_count": 10,
   "id": "664b9e4a-7bc6-4b6d-93e2-606fe890a5e6",
   "metadata": {},
   "outputs": [
    {
     "data": {
      "text/plain": [
       "numpy.ndarray"
      ]
     },
     "execution_count": 10,
     "metadata": {},
     "output_type": "execute_result"
    }
   ],
   "source": [
    "type(dataset)"
   ]
  },
  {
   "cell_type": "code",
   "execution_count": 11,
   "id": "cfde8f02-a306-4632-905f-049c94e712c3",
   "metadata": {},
   "outputs": [
    {
     "data": {
      "text/plain": [
       "(500, 4)"
      ]
     },
     "execution_count": 11,
     "metadata": {},
     "output_type": "execute_result"
    }
   ],
   "source": [
    "dataset.shape"
   ]
  },
  {
   "cell_type": "code",
   "execution_count": 12,
   "id": "738ff8ec-2424-41cb-8420-18c7d46655fc",
   "metadata": {},
   "outputs": [
    {
     "data": {
      "text/plain": [
       "list"
      ]
     },
     "execution_count": 12,
     "metadata": {},
     "output_type": "execute_result"
    }
   ],
   "source": [
    "type(especies)"
   ]
  },
  {
   "cell_type": "code",
   "execution_count": 13,
   "id": "6718be7a-54f3-460c-b590-d134ac1f211e",
   "metadata": {},
   "outputs": [
    {
     "data": {
      "text/plain": [
       "500"
      ]
     },
     "execution_count": 13,
     "metadata": {},
     "output_type": "execute_result"
    }
   ],
   "source": [
    "len(especies)"
   ]
  },
  {
   "cell_type": "markdown",
   "id": "d693a397-259f-48e1-8ec5-f007dd82dcc5",
   "metadata": {},
   "source": [
    "¿No sería muy útil tener todas los datos en un solo objeto? Y si además ese objeto me proporciona herramientas de manipulación y análisis... Pues te presento al marco de datos (*DataFrame*) de Pandas: "
   ]
  },
  {
   "cell_type": "code",
   "execution_count": 14,
   "id": "c913dada-8ac6-4e97-927c-02913be75082",
   "metadata": {},
   "outputs": [],
   "source": [
    "dataframe = pd.DataFrame()"
   ]
  },
  {
   "cell_type": "code",
   "execution_count": 16,
   "id": "be2dd1ee-d356-4522-910b-8b9ea468de8f",
   "metadata": {},
   "outputs": [],
   "source": [
    "dataframe['Atributo 1']=dataset[:,0]\n",
    "dataframe['Atributo 2']=dataset[:,1]\n",
    "dataframe['Atributo 3']=dataset[:,2]\n",
    "dataframe['Atributo 4']=dataset[:,3]\n",
    "dataframe['Especie']=especies"
   ]
  },
  {
   "cell_type": "code",
   "execution_count": 17,
   "id": "ba02c0d6-9fdf-4097-a186-ca2c4ce2c557",
   "metadata": {},
   "outputs": [
    {
     "data": {
      "text/html": [
       "<div>\n",
       "<style scoped>\n",
       "    .dataframe tbody tr th:only-of-type {\n",
       "        vertical-align: middle;\n",
       "    }\n",
       "\n",
       "    .dataframe tbody tr th {\n",
       "        vertical-align: top;\n",
       "    }\n",
       "\n",
       "    .dataframe thead th {\n",
       "        text-align: right;\n",
       "    }\n",
       "</style>\n",
       "<table border=\"1\" class=\"dataframe\">\n",
       "  <thead>\n",
       "    <tr style=\"text-align: right;\">\n",
       "      <th></th>\n",
       "      <th>Atributo 1</th>\n",
       "      <th>Atributo 2</th>\n",
       "      <th>Atributo 3</th>\n",
       "      <th>Atributo 4</th>\n",
       "      <th>Especie</th>\n",
       "    </tr>\n",
       "  </thead>\n",
       "  <tbody>\n",
       "    <tr>\n",
       "      <th>0</th>\n",
       "      <td>7.920106</td>\n",
       "      <td>3.450407</td>\n",
       "      <td>8.266595</td>\n",
       "      <td>-0.466505</td>\n",
       "      <td>E</td>\n",
       "    </tr>\n",
       "    <tr>\n",
       "      <th>1</th>\n",
       "      <td>-5.492490</td>\n",
       "      <td>3.987087</td>\n",
       "      <td>-1.777449</td>\n",
       "      <td>6.346447</td>\n",
       "      <td>D</td>\n",
       "    </tr>\n",
       "    <tr>\n",
       "      <th>2</th>\n",
       "      <td>-5.777371</td>\n",
       "      <td>7.154150</td>\n",
       "      <td>4.249577</td>\n",
       "      <td>-5.291126</td>\n",
       "      <td>C</td>\n",
       "    </tr>\n",
       "    <tr>\n",
       "      <th>3</th>\n",
       "      <td>-6.098873</td>\n",
       "      <td>-9.534975</td>\n",
       "      <td>4.810362</td>\n",
       "      <td>3.097021</td>\n",
       "      <td>B</td>\n",
       "    </tr>\n",
       "    <tr>\n",
       "      <th>4</th>\n",
       "      <td>-8.500310</td>\n",
       "      <td>8.759037</td>\n",
       "      <td>5.275436</td>\n",
       "      <td>-3.102927</td>\n",
       "      <td>C</td>\n",
       "    </tr>\n",
       "    <tr>\n",
       "      <th>...</th>\n",
       "      <td>...</td>\n",
       "      <td>...</td>\n",
       "      <td>...</td>\n",
       "      <td>...</td>\n",
       "      <td>...</td>\n",
       "    </tr>\n",
       "    <tr>\n",
       "      <th>495</th>\n",
       "      <td>-4.539351</td>\n",
       "      <td>3.540893</td>\n",
       "      <td>1.122374</td>\n",
       "      <td>3.534344</td>\n",
       "      <td>D</td>\n",
       "    </tr>\n",
       "    <tr>\n",
       "      <th>496</th>\n",
       "      <td>-5.502339</td>\n",
       "      <td>1.596829</td>\n",
       "      <td>-1.871361</td>\n",
       "      <td>4.912942</td>\n",
       "      <td>D</td>\n",
       "    </tr>\n",
       "    <tr>\n",
       "      <th>497</th>\n",
       "      <td>8.249076</td>\n",
       "      <td>2.788061</td>\n",
       "      <td>12.078724</td>\n",
       "      <td>-2.500344</td>\n",
       "      <td>E</td>\n",
       "    </tr>\n",
       "    <tr>\n",
       "      <th>498</th>\n",
       "      <td>-5.160133</td>\n",
       "      <td>2.212279</td>\n",
       "      <td>-0.531630</td>\n",
       "      <td>5.119538</td>\n",
       "      <td>D</td>\n",
       "    </tr>\n",
       "    <tr>\n",
       "      <th>499</th>\n",
       "      <td>-6.999971</td>\n",
       "      <td>-7.933641</td>\n",
       "      <td>5.001307</td>\n",
       "      <td>3.717836</td>\n",
       "      <td>B</td>\n",
       "    </tr>\n",
       "  </tbody>\n",
       "</table>\n",
       "<p>500 rows × 5 columns</p>\n",
       "</div>"
      ],
      "text/plain": [
       "     Atributo 1  Atributo 2  Atributo 3  Atributo 4 Especie\n",
       "0      7.920106    3.450407    8.266595   -0.466505       E\n",
       "1     -5.492490    3.987087   -1.777449    6.346447       D\n",
       "2     -5.777371    7.154150    4.249577   -5.291126       C\n",
       "3     -6.098873   -9.534975    4.810362    3.097021       B\n",
       "4     -8.500310    8.759037    5.275436   -3.102927       C\n",
       "..          ...         ...         ...         ...     ...\n",
       "495   -4.539351    3.540893    1.122374    3.534344       D\n",
       "496   -5.502339    1.596829   -1.871361    4.912942       D\n",
       "497    8.249076    2.788061   12.078724   -2.500344       E\n",
       "498   -5.160133    2.212279   -0.531630    5.119538       D\n",
       "499   -6.999971   -7.933641    5.001307    3.717836       B\n",
       "\n",
       "[500 rows x 5 columns]"
      ]
     },
     "execution_count": 17,
     "metadata": {},
     "output_type": "execute_result"
    }
   ],
   "source": [
    "dataframe"
   ]
  },
  {
   "cell_type": "code",
   "execution_count": null,
   "id": "8c0dc493-22b5-423a-92cf-f70f89fa2b4a",
   "metadata": {},
   "outputs": [],
   "source": []
  }
 ],
 "metadata": {
  "kernelspec": {
   "display_name": "Python 3 (ipykernel)",
   "language": "python",
   "name": "python3"
  },
  "language_info": {
   "codemirror_mode": {
    "name": "ipython",
    "version": 3
   },
   "file_extension": ".py",
   "mimetype": "text/x-python",
   "name": "python",
   "nbconvert_exporter": "python",
   "pygments_lexer": "ipython3",
   "version": "3.10.11"
  }
 },
 "nbformat": 4,
 "nbformat_minor": 5
}
